{
 "cells": [
  {
   "cell_type": "code",
   "execution_count": 2,
   "metadata": {},
   "outputs": [],
   "source": [
    "import math\n",
    "import numpy as np\n",
    "import pandas as pd\n",
    "\n",
    "from IPython.core.interactiveshell import InteractiveShell\n",
    "InteractiveShell.ast_node_interactivity = \"all\""
   ]
  },
  {
   "cell_type": "markdown",
   "metadata": {},
   "source": [
    "# Input Test A and B sensitivities and specificities and disease prevalance\n",
    "## input prevalance as a comma separated list of possibles to be evaluated\n",
    "\n",
    "suggestions: layton = 0.052, ut % positive tests = 0.046, salt lake high = .399"
   ]
  },
  {
   "cell_type": "code",
   "execution_count": 3,
   "metadata": {},
   "outputs": [],
   "source": [
    "#characteristics of the tests\n",
    "sensA = .63\n",
    "specA = .99\n",
    "sensB = .841\n",
    "specB = .923\n",
    "\n",
    "#disease prevalance in the population\n",
    "### Layton is at .0005%, positive tests in UT = 4.5%, salt lake high = .415%\n",
    "# for example prev = (.050,.010,.1)\n",
    "prev_list = (.00052,.00415,.045)\n",
    "\n",
    "pop=350\n",
    "\n",
    "### for reference, here are the sensitivies and specificities used earlier\n",
    "#pcr option 1\n",
    "sen_pcr1 = .63\n",
    "sen_pcr2 = .73\n",
    "spec_pcr = .99\n",
    "#serology\n",
    "sen_ser = .841\n",
    "spec_ser = .923"
   ]
  },
  {
   "cell_type": "markdown",
   "metadata": {},
   "source": [
    "# Ignore this code"
   ]
  },
  {
   "cell_type": "code",
   "execution_count": 4,
   "metadata": {},
   "outputs": [
    {
     "ename": "NameError",
     "evalue": "name 'senA' is not defined",
     "output_type": "error",
     "traceback": [
      "\u001b[0;31m---------------------------------------------------------------------------\u001b[0m",
      "\u001b[0;31mNameError\u001b[0m                                 Traceback (most recent call last)",
      "\u001b[0;32m<ipython-input-4-ec199074c77b>\u001b[0m in \u001b[0;36m<module>\u001b[0;34m\u001b[0m\n\u001b[1;32m     19\u001b[0m     \u001b[0mSAnpv\u001b[0m \u001b[0;34m=\u001b[0m \u001b[0;34m(\u001b[0m\u001b[0mSAspec\u001b[0m\u001b[0;34m*\u001b[0m\u001b[0;34m(\u001b[0m\u001b[0;36m1\u001b[0m\u001b[0;34m-\u001b[0m\u001b[0mprev\u001b[0m\u001b[0;34m)\u001b[0m\u001b[0;34m)\u001b[0m\u001b[0;34m/\u001b[0m\u001b[0;34m(\u001b[0m\u001b[0;34m(\u001b[0m\u001b[0;36m1\u001b[0m\u001b[0;34m-\u001b[0m\u001b[0mSAsens\u001b[0m\u001b[0;34m)\u001b[0m\u001b[0;34m*\u001b[0m\u001b[0mprev\u001b[0m\u001b[0;34m+\u001b[0m\u001b[0mSAspec\u001b[0m\u001b[0;34m*\u001b[0m\u001b[0;34m(\u001b[0m\u001b[0;36m1\u001b[0m\u001b[0;34m-\u001b[0m\u001b[0mprev\u001b[0m\u001b[0;34m)\u001b[0m\u001b[0;34m)\u001b[0m\u001b[0;34m\u001b[0m\u001b[0;34m\u001b[0m\u001b[0m\n\u001b[1;32m     20\u001b[0m \u001b[0;34m\u001b[0m\u001b[0m\n\u001b[0;32m---> 21\u001b[0;31m     \u001b[0mnpvA\u001b[0m\u001b[0;34m=\u001b[0m\u001b[0;34m(\u001b[0m\u001b[0mspecA\u001b[0m\u001b[0;34m*\u001b[0m\u001b[0;34m(\u001b[0m\u001b[0;36m1\u001b[0m\u001b[0;34m-\u001b[0m\u001b[0mprev\u001b[0m\u001b[0;34m)\u001b[0m\u001b[0;34m)\u001b[0m\u001b[0;34m/\u001b[0m\u001b[0;34m(\u001b[0m\u001b[0;34m(\u001b[0m\u001b[0;36m1\u001b[0m\u001b[0;34m-\u001b[0m\u001b[0msenA\u001b[0m\u001b[0;34m)\u001b[0m\u001b[0;34m*\u001b[0m\u001b[0mprev\u001b[0m\u001b[0;34m+\u001b[0m\u001b[0mspecA\u001b[0m\u001b[0;34m*\u001b[0m\u001b[0;34m(\u001b[0m\u001b[0;36m1\u001b[0m\u001b[0;34m-\u001b[0m\u001b[0mprev\u001b[0m\u001b[0;34m)\u001b[0m\u001b[0;34m)\u001b[0m\u001b[0;34m\u001b[0m\u001b[0;34m\u001b[0m\u001b[0m\n\u001b[0m\u001b[1;32m     22\u001b[0m     \u001b[0mnpvB\u001b[0m\u001b[0;34m=\u001b[0m\u001b[0;34m(\u001b[0m\u001b[0mspecB\u001b[0m\u001b[0;34m*\u001b[0m\u001b[0;34m(\u001b[0m\u001b[0;36m1\u001b[0m\u001b[0;34m-\u001b[0m\u001b[0mprev\u001b[0m\u001b[0;34m)\u001b[0m\u001b[0;34m)\u001b[0m\u001b[0;34m/\u001b[0m\u001b[0;34m(\u001b[0m\u001b[0;34m(\u001b[0m\u001b[0;36m1\u001b[0m\u001b[0;34m-\u001b[0m\u001b[0msenB\u001b[0m\u001b[0;34m)\u001b[0m\u001b[0;34m*\u001b[0m\u001b[0mprev\u001b[0m\u001b[0;34m+\u001b[0m\u001b[0mspecB\u001b[0m\u001b[0;34m*\u001b[0m\u001b[0;34m(\u001b[0m\u001b[0;36m1\u001b[0m\u001b[0;34m-\u001b[0m\u001b[0mprev\u001b[0m\u001b[0;34m)\u001b[0m\u001b[0;34m)\u001b[0m\u001b[0;34m\u001b[0m\u001b[0;34m\u001b[0m\u001b[0m\n\u001b[1;32m     23\u001b[0m     \u001b[0;31m#build lists for dataframe\u001b[0m\u001b[0;34m\u001b[0m\u001b[0;34m\u001b[0m\u001b[0;34m\u001b[0m\u001b[0m\n",
      "\u001b[0;31mNameError\u001b[0m: name 'senA' is not defined"
     ]
    }
   ],
   "source": [
    "#Calculations and Output generation, saves as .csv\n",
    "Test_characteristics = pd.DataFrame(columns=('Prevalance','Test Name','sensitivity','specificitiy','negPredVal'))\n",
    "for prev in prev_list:\n",
    "    \n",
    "    POsens=sensA+sensB -(sensA*sensB)\n",
    "    POspec = specA*specB\n",
    "    POnpv = (POspec*(1-prev))/((1-POsens)*prev+POspec*(1-prev))\n",
    "\n",
    "    PAsens = sensA*sensB\n",
    "    PAspec = specA+specB-(specA*specB)\n",
    "    PAnpv = (PAspec*(1-prev))/((1-PAsens)*prev+PAspec*(1-prev))\n",
    "\n",
    "    SOsens = sensA+(1-sensA)*sensB\n",
    "    SOspec = specA*specB\n",
    "    SOnpv = (SOspec*(1-prev))/((1-SOsens)*prev+SOspec*(1-prev))\n",
    "\n",
    "    SAsens = sensA*sensB\n",
    "    SAspec = specA+(1-specA)*specB\n",
    "    SAnpv = (SAspec*(1-prev))/((1-SAsens)*prev+SAspec*(1-prev))\n",
    "\n",
    "    npvA=(specA*(1-prev))/((1-sensA)*prev+specA*(1-prev))\n",
    "    npvB=(specB*(1-prev))/((1-sensB)*prev+specB*(1-prev))\n",
    "    #build lists for dataframe\n",
    "    prevalance = [prev]*6\n",
    "    sensitivities = [sensA,sensB,POsens,PAsens,SOsens,SAsens]\n",
    "    specificities = [specA,specB,POspec,PAspec,SOspec,SAspec]\n",
    "    negPredVals = [npvA,npvB,POnpv,PAnpv,SOnpv,SAnpv]\n",
    "    names = ['Test A','Test B','Parallel OR','Parallel AND','Series OR','Series AND']\n",
    "    data_tuples = list(zip(prevalance,names,sensitivities,specificities,negPredVals))\n",
    "    Test_Comparison = pd.DataFrame(data_tuples, columns=('Prevalance','Test Name','sensitivity','specificitiy','negPredVal'))\n",
    "    Test_characteristics = Test_characteristics.append(Test_Comparison)\n",
    "Test_characteristics.to_csv('Test_Char')"
   ]
  },
  {
   "cell_type": "markdown",
   "metadata": {},
   "source": [
    "## Combining Tests\n",
    "### Parallel - done at same time, interp together\n",
    "#### OR test\n",
    "##### yields a positive diagnosis if either test is positive and a negative diagnosis if both tests are negative\n",
    "\n",
    "Sens = SEa + SEb - (SEa × SEb)\n",
    "\n",
    "Spec = SPa × SPb\n",
    "\n",
    "#### AND test\n",
    "##### yields a positive diagnosis only if both tests are positive and a negative diagnosis if either test is negative\n",
    "\n",
    "\n",
    "Sens = SEa × SEb\n",
    "\n",
    "Spec = SPa + SPb - (SPa × SPb)\n",
    "\n",
    "### Series - done one at a time, 1st determines if 2nd done\n",
    "#### OR test\n",
    "##### if the first test is positive, the diagnosis is positive; otherwise, the second test is performed. If the second test is positive after a negative first test, then the diagnosis also is positive; otherwise, the diagnosis is negative\n",
    "\n",
    "\n",
    "Sens = SEa + (1 - SEa) × SEb\n",
    "\n",
    "Spec = SPa × SPb\n",
    "\n",
    "#### AND test\n",
    "##### if the first test is positive, the second test is performed. If the second test is positive, the diagnosis is positive; otherwise, the diagnosis is negative\n",
    "\n",
    "Sens = SEa × SEb\n",
    "\n",
    "Spec = SPa + (1 - SPa) × SPb\n",
    "\n",
    "## Negative Predictive Value\n",
    "#### What is the likelihood that this patient does not have the disease when the test result is negative?\n",
    "The probability that the disease is absent given the pretest probability (prevalance) and negative test result\n",
    "\n",
    "NPV = (Spec × (1-prev)) / (Spec × (1-prev) + (1-Sens) × prev\n",
    "\n",
    "\n",
    "\n",
    "\n",
    "Clinical Evaluation of Diagnostic Tests\n",
    "Susan Weinstein, Nancy A. Obuchowski and Michael L. Lieber\n",
    "American Journal of Roentgenology. 2005;184: 14-19. 10.2214/ajr.184.1.01840014\n",
    "\n",
    "Read More: https://www.ajronline.org/doi/abs/10.2214/ajr.184.1.01840014"
   ]
  },
  {
   "cell_type": "markdown",
   "metadata": {},
   "source": [
    "### Assumptions\n",
    "population = 350\n",
    "\n",
    "prevalance = Layton, Salt Lake, and average % of UT tests coming back positive over the past week\n",
    "\n",
    "### Question 1\n",
    "If I use a single diagnostic test on my population of 350 people how many negative tests are likely false\n",
    "- Test B has highest single test NPV\n",
    "\n",
    "In Layton a person with a negative test has a 98-99% chance of being a true negative\n",
    "- prevalance is 0.00052\n",
    "- 0.1 people in my population are infected\n",
    "- number of False Negatives = 0.003\n",
    "    \n",
    "In Salt Lake a person with a negative test has a 80-89% chance of being a true negative \n",
    "- prevalance is 0.00399\n",
    "- 1.5 people in my population are infected\n",
    "- number of False Negatives = 0.15\n",
    "    \n",
    "In All of UT a person with a negative test has a 97-99% chance of being a true negative\n",
    "- prevalance is 0.045\n",
    "- 16.1 people in my population are infected\n",
    "- number of False Negatives = 3.2\n",
    "\n",
    "### Question 2\n",
    "If I use two tests in parallel on my population of 350 people how many negative tests are likely false\n",
    "- Parallel OR has highest test NPV\n",
    "\n",
    "In Layton a person with a negative test has a 98-99% chance of being a true negative\n",
    "- prevalance is 0.00052\n",
    "- 0.2 people in my population are infected\n",
    "- number of False Negatives = 0.007\n",
    "    \n",
    "In Salt Lake a person with a negative test has a 80-89% chance of being a true negative \n",
    "- prevalance is 0.00399\n",
    "- 1.4 people in my population are infected\n",
    "- number of False Negatives = 0.059\n",
    "    \n",
    "In All of UT a person with a negative test has a 97-99% chance of being a true negative\n",
    "- prevalance is 0.045\n",
    "- 15.7 people in my population are infected\n",
    "- number of False Negatives = 0.55\n"
   ]
  },
  {
   "cell_type": "code",
   "execution_count": null,
   "metadata": {},
   "outputs": [],
   "source": [
    "prev_list[2]"
   ]
  },
  {
   "cell_type": "code",
   "execution_count": null,
   "metadata": {},
   "outputs": [],
   "source": [
    "UT= Test_characteristics[Test_characteristics.Prevalance.eq(prev_list[2])]\n",
    "Layton= Test_characteristics[Test_characteristics.Prevalance.eq(prev_list[0])]\n",
    "Salt_Lake= Test_characteristics[Test_characteristics.Prevalance.eq(prev_list[1])]\n",
    "Layton\n",
    "Salt_Lake\n",
    "UT"
   ]
  },
  {
   "cell_type": "code",
   "execution_count": null,
   "metadata": {},
   "outputs": [],
   "source": [
    "# ONE TEST - pick best NPV\n",
    "# chance of being positive * chance of false negative*total pop\n",
    "Layton_FN = pop*prev_list[0]*(1-max(Layton.negPredVal[0],Layton.negPredVal[1]))\n",
    "SLC_FN = pop*prev_list[1]*(1-max(Salt_Lake.negPredVal[0],Salt_Lake.negPredVal[1]))\n",
    "UT_FN = pop*prev_list[2]*(1-max(UT.negPredVal[0],UT.negPredVal[1]))\n",
    "FP1 = [Layton_FN,SLC_FN,UT_FN]"
   ]
  },
  {
   "cell_type": "code",
   "execution_count": null,
   "metadata": {},
   "outputs": [],
   "source": [
    "# TWO TEST PARALLEL OR \n",
    "# chance of being positive * chance of false negative*total pop\n",
    "Layton_FN2 = pop*prev_list[0]*(1-Layton.negPredVal[2])\n",
    "SLC_FN2 = pop*prev_list[1]*(1-Salt_Lake.negPredVal[2])\n",
    "UT_FN2 = pop*prev_list[2]*(1-UT.negPredVal[2])\n",
    "FP2 = [Layton_FN2,SLC_FN2,UT_FN2]"
   ]
  },
  {
   "cell_type": "code",
   "execution_count": 5,
   "metadata": {},
   "outputs": [
    {
     "ename": "NameError",
     "evalue": "name 'FP1' is not defined",
     "output_type": "error",
     "traceback": [
      "\u001b[0;31m---------------------------------------------------------------------------\u001b[0m",
      "\u001b[0;31mNameError\u001b[0m                                 Traceback (most recent call last)",
      "\u001b[0;32m<ipython-input-5-daaf8c3478a8>\u001b[0m in \u001b[0;36m<module>\u001b[0;34m\u001b[0m\n\u001b[1;32m      2\u001b[0m \u001b[0mtypelist\u001b[0m \u001b[0;34m=\u001b[0m \u001b[0;34m[\u001b[0m\u001b[0;34m'single'\u001b[0m\u001b[0;34m,\u001b[0m\u001b[0;34m'single'\u001b[0m\u001b[0;34m,\u001b[0m\u001b[0;34m'single'\u001b[0m\u001b[0;34m,\u001b[0m\u001b[0;34m'parallelOR'\u001b[0m\u001b[0;34m,\u001b[0m\u001b[0;34m'parallelOR'\u001b[0m\u001b[0;34m,\u001b[0m\u001b[0;34m'parallelOR'\u001b[0m\u001b[0;34m]\u001b[0m\u001b[0;34m\u001b[0m\u001b[0;34m\u001b[0m\u001b[0m\n\u001b[1;32m      3\u001b[0m \u001b[0minfected\u001b[0m \u001b[0;34m=\u001b[0m \u001b[0;34m[\u001b[0m\u001b[0mpop\u001b[0m\u001b[0;34m*\u001b[0m\u001b[0mprev_list\u001b[0m\u001b[0;34m[\u001b[0m\u001b[0;36m0\u001b[0m\u001b[0;34m]\u001b[0m\u001b[0;34m,\u001b[0m\u001b[0mpop\u001b[0m\u001b[0;34m*\u001b[0m\u001b[0mprev_list\u001b[0m\u001b[0;34m[\u001b[0m\u001b[0;36m1\u001b[0m\u001b[0;34m]\u001b[0m\u001b[0;34m,\u001b[0m\u001b[0mpop\u001b[0m\u001b[0;34m*\u001b[0m\u001b[0mprev_list\u001b[0m\u001b[0;34m[\u001b[0m\u001b[0;36m2\u001b[0m\u001b[0;34m]\u001b[0m\u001b[0;34m]\u001b[0m\u001b[0;34m*\u001b[0m\u001b[0;36m2\u001b[0m\u001b[0;34m\u001b[0m\u001b[0;34m\u001b[0m\u001b[0m\n\u001b[0;32m----> 4\u001b[0;31m \u001b[0mFPlist\u001b[0m \u001b[0;34m=\u001b[0m \u001b[0mFP1\u001b[0m\u001b[0;34m+\u001b[0m\u001b[0mFP2\u001b[0m\u001b[0;34m\u001b[0m\u001b[0;34m\u001b[0m\u001b[0m\n\u001b[0m\u001b[1;32m      5\u001b[0m \u001b[0mlocations\u001b[0m \u001b[0;34m=\u001b[0m \u001b[0;34m[\u001b[0m\u001b[0;34m'Layton'\u001b[0m\u001b[0;34m,\u001b[0m\u001b[0;34m'Salt Lake'\u001b[0m\u001b[0;34m,\u001b[0m\u001b[0;34m'UT % test +'\u001b[0m\u001b[0;34m,\u001b[0m\u001b[0;34m'Layton'\u001b[0m\u001b[0;34m,\u001b[0m\u001b[0;34m'Salt Lake'\u001b[0m\u001b[0;34m,\u001b[0m\u001b[0;34m'UT % test +'\u001b[0m\u001b[0;34m]\u001b[0m\u001b[0;34m\u001b[0m\u001b[0;34m\u001b[0m\u001b[0m\n",
      "\u001b[0;31mNameError\u001b[0m: name 'FP1' is not defined"
     ]
    }
   ],
   "source": [
    "plist = list(prev_list*2)\n",
    "typelist = ['single','single','single','parallelOR','parallelOR','parallelOR']\n",
    "infected = [pop*prev_list[0],pop*prev_list[1],pop*prev_list[2]]*2\n",
    "FPlist = FP1+FP2\n",
    "locations = ['Layton','Salt Lake','UT % test +','Layton','Salt Lake','UT % test +']"
   ]
  },
  {
   "cell_type": "code",
   "execution_count": 6,
   "metadata": {},
   "outputs": [
    {
     "ename": "NameError",
     "evalue": "name 'locations' is not defined",
     "output_type": "error",
     "traceback": [
      "\u001b[0;31m---------------------------------------------------------------------------\u001b[0m",
      "\u001b[0;31mNameError\u001b[0m                                 Traceback (most recent call last)",
      "\u001b[0;32m<ipython-input-6-746b7bb4f0d9>\u001b[0m in \u001b[0;36m<module>\u001b[0;34m\u001b[0m\n\u001b[0;32m----> 1\u001b[0;31m \u001b[0mdata_tuples2\u001b[0m \u001b[0;34m=\u001b[0m \u001b[0mlist\u001b[0m\u001b[0;34m(\u001b[0m\u001b[0mzip\u001b[0m\u001b[0;34m(\u001b[0m\u001b[0mlocations\u001b[0m\u001b[0;34m,\u001b[0m \u001b[0mplist\u001b[0m\u001b[0;34m,\u001b[0m\u001b[0mtypelist\u001b[0m\u001b[0;34m,\u001b[0m\u001b[0minfected\u001b[0m\u001b[0;34m,\u001b[0m\u001b[0mFPlist\u001b[0m\u001b[0;34m)\u001b[0m\u001b[0;34m)\u001b[0m\u001b[0;34m\u001b[0m\u001b[0;34m\u001b[0m\u001b[0m\n\u001b[0m\u001b[1;32m      2\u001b[0m \u001b[0mFalse_Pos\u001b[0m \u001b[0;34m=\u001b[0m \u001b[0mpd\u001b[0m\u001b[0;34m.\u001b[0m\u001b[0mDataFrame\u001b[0m\u001b[0;34m(\u001b[0m\u001b[0mdata_tuples2\u001b[0m\u001b[0;34m,\u001b[0m\u001b[0mcolumns\u001b[0m \u001b[0;34m=\u001b[0m \u001b[0;34m(\u001b[0m\u001b[0;34m'Location'\u001b[0m\u001b[0;34m,\u001b[0m\u001b[0;34m'Prevalance'\u001b[0m\u001b[0;34m,\u001b[0m\u001b[0;34m'Test_Type'\u001b[0m\u001b[0;34m,\u001b[0m\u001b[0;34m'Number_Infected'\u001b[0m\u001b[0;34m,\u001b[0m\u001b[0;34m'Number_False_Positives'\u001b[0m\u001b[0;34m)\u001b[0m\u001b[0;34m)\u001b[0m\u001b[0;34m\u001b[0m\u001b[0;34m\u001b[0m\u001b[0m\n",
      "\u001b[0;31mNameError\u001b[0m: name 'locations' is not defined"
     ]
    }
   ],
   "source": [
    "data_tuples2 = list(zip(locations, plist,typelist,infected,FPlist))\n",
    "False_Pos = pd.DataFrame(data_tuples2,columns = ('Location','Prevalance','Test_Type','Number_Infected','Number_False_Positives'))"
   ]
  },
  {
   "cell_type": "code",
   "execution_count": null,
   "metadata": {},
   "outputs": [],
   "source": [
    "False_Pos\n",
    "False_Pos.to_csv('FPs')"
   ]
  },
  {
   "cell_type": "code",
   "execution_count": null,
   "metadata": {},
   "outputs": [],
   "source": []
  }
 ],
 "metadata": {
  "kernelspec": {
   "display_name": "Python 3",
   "language": "python",
   "name": "python3"
  },
  "language_info": {
   "codemirror_mode": {
    "name": "ipython",
    "version": 3
   },
   "file_extension": ".py",
   "mimetype": "text/x-python",
   "name": "python",
   "nbconvert_exporter": "python",
   "pygments_lexer": "ipython3",
   "version": "3.7.6"
  }
 },
 "nbformat": 4,
 "nbformat_minor": 4
}
