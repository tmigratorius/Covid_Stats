{
 "cells": [
  {
   "cell_type": "code",
   "execution_count": 82,
   "metadata": {},
   "outputs": [],
   "source": [
    "from IPython.core.interactiveshell import InteractiveShell\n",
    "InteractiveShell.ast_node_interactivity = \"all\"\n",
    "import numpy as np\n",
    "import pandas as pd\n",
    "import requests\n",
    "import io\n",
    "import math\n",
    "from statistics import mean\n",
    "import matplotlib.pyplot as plt\n",
    "import matplotlib.dates as mdates\n",
    "import seaborn as sb\n",
    "pd.set_option('display.max_columns',100)"
   ]
  },
  {
   "cell_type": "code",
   "execution_count": 83,
   "metadata": {},
   "outputs": [
    {
     "name": "stderr",
     "output_type": "stream",
     "text": [
      "/Users/robyn/opt/anaconda3/lib/python3.7/site-packages/ipykernel_launcher.py:8: SettingWithCopyWarning: \n",
      "A value is trying to be set on a copy of a slice from a DataFrame.\n",
      "Try using .loc[row_indexer,col_indexer] = value instead\n",
      "\n",
      "See the caveats in the documentation: https://pandas.pydata.org/pandas-docs/stable/user_guide/indexing.html#returning-a-view-versus-a-copy\n",
      "  \n",
      "/Users/robyn/opt/anaconda3/lib/python3.7/site-packages/ipykernel_launcher.py:12: SettingWithCopyWarning: \n",
      "A value is trying to be set on a copy of a slice from a DataFrame.\n",
      "Try using .loc[row_indexer,col_indexer] = value instead\n",
      "\n",
      "See the caveats in the documentation: https://pandas.pydata.org/pandas-docs/stable/user_guide/indexing.html#returning-a-view-versus-a-copy\n",
      "  if sys.path[0] == '':\n"
     ]
    }
   ],
   "source": [
    "#read in ut covid #s\n",
    "url=\"https://covidtracking.com/api/v1/states/daily.csv\"\n",
    "s=requests.get(url).content\n",
    "c=pd.read_csv(io.StringIO(s.decode('utf-8')))\n",
    "#filter for UT\n",
    "ut = c[c['state'].str.contains(\"UT\")]\n",
    "#set dates as datetime\n",
    "ut['date']=pd.to_datetime(ut['date'],format ='%Y%m%d')\n",
    "#reset the index\n",
    "ut.reset_index(drop = True, inplace = True)\n",
    "#add a percent of tests positive column\n",
    "ut['percent']=ut['positiveIncrease']/ut['totalTestResultsIncrease']"
   ]
  },
  {
   "cell_type": "code",
   "execution_count": 84,
   "metadata": {
    "scrolled": false
   },
   "outputs": [
    {
     "data": {
      "text/html": [
       "<div>\n",
       "<style scoped>\n",
       "    .dataframe tbody tr th:only-of-type {\n",
       "        vertical-align: middle;\n",
       "    }\n",
       "\n",
       "    .dataframe tbody tr th {\n",
       "        vertical-align: top;\n",
       "    }\n",
       "\n",
       "    .dataframe thead th {\n",
       "        text-align: right;\n",
       "    }\n",
       "</style>\n",
       "<table border=\"1\" class=\"dataframe\">\n",
       "  <thead>\n",
       "    <tr style=\"text-align: right;\">\n",
       "      <th></th>\n",
       "      <th>date</th>\n",
       "      <th>state</th>\n",
       "      <th>positive</th>\n",
       "      <th>negative</th>\n",
       "      <th>pending</th>\n",
       "      <th>hospitalizedCurrently</th>\n",
       "      <th>hospitalizedCumulative</th>\n",
       "      <th>inIcuCurrently</th>\n",
       "      <th>inIcuCumulative</th>\n",
       "      <th>onVentilatorCurrently</th>\n",
       "      <th>onVentilatorCumulative</th>\n",
       "      <th>recovered</th>\n",
       "      <th>hash</th>\n",
       "      <th>dateChecked</th>\n",
       "      <th>death</th>\n",
       "      <th>hospitalized</th>\n",
       "      <th>total</th>\n",
       "      <th>totalTestResults</th>\n",
       "      <th>posNeg</th>\n",
       "      <th>fips</th>\n",
       "      <th>deathIncrease</th>\n",
       "      <th>hospitalizedIncrease</th>\n",
       "      <th>negativeIncrease</th>\n",
       "      <th>positiveIncrease</th>\n",
       "      <th>totalTestResultsIncrease</th>\n",
       "      <th>percent</th>\n",
       "    </tr>\n",
       "  </thead>\n",
       "  <tbody>\n",
       "    <tr>\n",
       "      <th>0</th>\n",
       "      <td>2020-04-21</td>\n",
       "      <td>UT</td>\n",
       "      <td>3296.0</td>\n",
       "      <td>69062.0</td>\n",
       "      <td>NaN</td>\n",
       "      <td>NaN</td>\n",
       "      <td>277.0</td>\n",
       "      <td>NaN</td>\n",
       "      <td>NaN</td>\n",
       "      <td>NaN</td>\n",
       "      <td>NaN</td>\n",
       "      <td>888.0</td>\n",
       "      <td>944b4791fd93c9696980641689ce71ef01189065</td>\n",
       "      <td>2020-04-21T20:00:00Z</td>\n",
       "      <td>32.0</td>\n",
       "      <td>277.0</td>\n",
       "      <td>72358.0</td>\n",
       "      <td>72358.0</td>\n",
       "      <td>72358.0</td>\n",
       "      <td>49</td>\n",
       "      <td>4.0</td>\n",
       "      <td>9.0</td>\n",
       "      <td>3964.0</td>\n",
       "      <td>83.0</td>\n",
       "      <td>4047.0</td>\n",
       "      <td>0.020509</td>\n",
       "    </tr>\n",
       "  </tbody>\n",
       "</table>\n",
       "</div>"
      ],
      "text/plain": [
       "        date state  positive  negative  pending  hospitalizedCurrently  \\\n",
       "0 2020-04-21    UT    3296.0   69062.0      NaN                    NaN   \n",
       "\n",
       "   hospitalizedCumulative  inIcuCurrently  inIcuCumulative  \\\n",
       "0                   277.0             NaN              NaN   \n",
       "\n",
       "   onVentilatorCurrently  onVentilatorCumulative  recovered  \\\n",
       "0                    NaN                     NaN      888.0   \n",
       "\n",
       "                                       hash           dateChecked  death  \\\n",
       "0  944b4791fd93c9696980641689ce71ef01189065  2020-04-21T20:00:00Z   32.0   \n",
       "\n",
       "   hospitalized    total  totalTestResults   posNeg  fips  deathIncrease  \\\n",
       "0         277.0  72358.0           72358.0  72358.0    49            4.0   \n",
       "\n",
       "   hospitalizedIncrease  negativeIncrease  positiveIncrease  \\\n",
       "0                   9.0            3964.0              83.0   \n",
       "\n",
       "   totalTestResultsIncrease   percent  \n",
       "0                    4047.0  0.020509  "
      ]
     },
     "execution_count": 84,
     "metadata": {},
     "output_type": "execute_result"
    },
    {
     "data": {
      "text/plain": [
       "[0.020509019026439337,\n",
       " 0.030277544154751892,\n",
       " 0.03821656050955414,\n",
       " 0.0301941049604601,\n",
       " 0.02002297718693583,\n",
       " 0.06831395348837209,\n",
       " 0.11423550087873462]"
      ]
     },
     "execution_count": 84,
     "metadata": {},
     "output_type": "execute_result"
    },
    {
     "data": {
      "text/plain": [
       "0.04596709431503543"
      ]
     },
     "execution_count": 84,
     "metadata": {},
     "output_type": "execute_result"
    }
   ],
   "source": [
    "ut[:1]\n",
    "avgs = []\n",
    "for i in range(7):\n",
    "    avg = (ut.positiveIncrease[i]/(ut.positiveIncrease[i]+ut.negativeIncrease[i]))\n",
    "    avgs.append(avg)\n",
    "avgs\n",
    "mean(avgs)"
   ]
  },
  {
   "cell_type": "code",
   "execution_count": 85,
   "metadata": {},
   "outputs": [
    {
     "ename": "AttributeError",
     "evalue": "'Timestamp' object has no attribute 'tolist'",
     "output_type": "error",
     "traceback": [
      "\u001b[0;31m---------------------------------------------------------------------------\u001b[0m",
      "\u001b[0;31mAttributeError\u001b[0m                            Traceback (most recent call last)",
      "\u001b[0;32m<ipython-input-85-0dec152e617c>\u001b[0m in \u001b[0;36m<module>\u001b[0;34m\u001b[0m\n\u001b[0;32m----> 1\u001b[0;31m \u001b[0mut\u001b[0m\u001b[0;34m.\u001b[0m\u001b[0mindex\u001b[0m\u001b[0;34m[\u001b[0m\u001b[0mut\u001b[0m\u001b[0;34m[\u001b[0m\u001b[0;34m'date'\u001b[0m\u001b[0;34m]\u001b[0m \u001b[0;34m==\u001b[0m \u001b[0mpd\u001b[0m\u001b[0;34m.\u001b[0m\u001b[0mto_datetime\u001b[0m\u001b[0;34m(\u001b[0m\u001b[0;34m'2020-03-12'\u001b[0m\u001b[0;34m)\u001b[0m\u001b[0;34m.\u001b[0m\u001b[0mtolist\u001b[0m\u001b[0;34m(\u001b[0m\u001b[0;34m)\u001b[0m\u001b[0;34m]\u001b[0m\u001b[0;34m\u001b[0m\u001b[0;34m\u001b[0m\u001b[0m\n\u001b[0m",
      "\u001b[0;31mAttributeError\u001b[0m: 'Timestamp' object has no attribute 'tolist'"
     ]
    }
   ],
   "source": [
    "\n",
    "ut.index[ut['date'] == pd.to_datetime('2020-03-12').tolist()]"
   ]
  },
  {
   "cell_type": "code",
   "execution_count": null,
   "metadata": {},
   "outputs": [],
   "source": [
    "for i in ut.percent:\n",
    "    if i ==1:\n",
    "        print ('entry '+str(i)+'==1')\n",
    "        ut.percent[i] = (ut.percent[i-1]+ut.percent[i+1])/2\n",
    "        print ('entry '+str(i)+'='+ut.percent[i])"
   ]
  },
  {
   "cell_type": "code",
   "execution_count": null,
   "metadata": {},
   "outputs": [],
   "source": [
    "#%conda install -c conda-forge plotly\n",
    "#%conda install -c conda-forge cufflinks"
   ]
  },
  {
   "cell_type": "code",
   "execution_count": null,
   "metadata": {},
   "outputs": [],
   "source": [
    "from IPython.core.interactiveshell import InteractiveShell\n",
    "InteractiveShell.ast_node_interactivity = \"all\""
   ]
  },
  {
   "cell_type": "code",
   "execution_count": null,
   "metadata": {},
   "outputs": [],
   "source": [
    "import numpy as np\n",
    "import pandas as pd\n",
    "import requests\n",
    "import io\n",
    "import matplotlib.pyplot as plt\n",
    "import matplotlib.dates as mdates\n",
    "import seaborn as sb\n",
    "pd.set_option('display.max_columns',100)"
   ]
  },
  {
   "cell_type": "code",
   "execution_count": null,
   "metadata": {},
   "outputs": [],
   "source": [
    "url=\"https://covidtracking.com/api/v1/states/daily.csv\"\n",
    "s=requests.get(url).content\n",
    "c=pd.read_csv(io.StringIO(s.decode('utf-8')))\n",
    "ut = c[c['state'].str.contains(\"UT\")]\n",
    "ut=ut.reset_index()\n",
    "ut['date'] = pd.to_datetime(ut['date'], format = '%Y%m%d')"
   ]
  },
  {
   "cell_type": "code",
   "execution_count": null,
   "metadata": {},
   "outputs": [],
   "source": [
    "ut.head()\n",
    "ut.columns\n",
    "ut['percent']=ut['positiveIncrease']/ut['totalTestResultsIncrease']\n",
    "ut.percent[17]=(ut.percent[16]+ut.percent[18])/2"
   ]
  },
  {
   "cell_type": "code",
   "execution_count": null,
   "metadata": {},
   "outputs": [],
   "source": [
    "ut.percent"
   ]
  },
  {
   "cell_type": "code",
   "execution_count": null,
   "metadata": {},
   "outputs": [],
   "source": [
    "#setting plot vars\n",
    "date = ut['date']\n",
    "c_total_tests = ut['total']\n",
    "c_hosp = ut['hospitalized']\n",
    "d_total_tested = ut['totalTestResultsIncrease']\n",
    "d_pos = ut['positiveIncrease']\n",
    "d_neg = ut['negativeIncrease']\n",
    "c_pos = ut['positive']\n",
    "d_death = ut['deathIncrease']\n",
    "c_death = ut['death']\n",
    "c_rec = ut['recovered']\n",
    "d_hosp = ut['hospitalizedIncrease']\n",
    "percent_pos = (ut['positiveIncrease']/ut['totalTestResultsIncrease'])*100"
   ]
  },
  {
   "cell_type": "code",
   "execution_count": null,
   "metadata": {},
   "outputs": [],
   "source": [
    "#by date total positive, total hospitalized\n",
    "\n",
    "#rolling_mean_d = ut.deathIncrease.rolling(window=7).mean()\n",
    "#rolling_mean_h = ut.hospitalizedIncrease.rolling(window=7).mean()\n",
    "rolling_mean_p = ut.percent[0:32].rolling(window=7).mean()\n",
    "\n",
    "\n",
    "\n",
    "\n",
    "\n",
    "ax0 = plt.subplot(111)\n",
    "#ax0.plot(date, c_pos,label = 'positive tests')\n",
    "#ax0.plot(date, c_hosp, label = 'hospitalizations')\n",
    "#ax0.plot(date, d_hosp, label = 'hospitalizations',linewidth=3.0)\n",
    "#ax0.plot(date,rolling_mean_h, label='7-day avg',linewidth = 3.0)\n",
    "ax0.plot(date[0:32], ut.percent[0:32]*100, label = '% Positive Tests',linewidth=3.0)\n",
    "ax0.plot(date[0:32],rolling_mean_p*100, label='7-day avg', linewidth = 3.0)\n",
    "\n",
    "\n",
    "#ax0.plot(date, d_pos, label = 'daily pos')\n",
    "#ax0.plot(date, c_death, label = 'deceased',linewidth=3.0)\n",
    "#ax0.plot(date, d_death, label = 'daily deaths',linewidth=3.0)\n",
    "#ax0.plot(date,rolling_mean_d, label='7-day avg')\n",
    "#plt.plot(date,c_rec, label = 'recovered')\n",
    "#plt.text(date[0],c_death[0], c_death[0],fontsize = 14)\n",
    "plt.box(on=None)\n",
    "axfmt = mdates.DateFormatter(\"%m-%d\")\n",
    "#plt.title('Daily Hospitalizations and 7-day Average',fontsize=20)\n",
    "plt.title('Percent of Tests Positive',fontsize=20)\n",
    "\n",
    "\n",
    "\n",
    "#plt.title('Cumulative and Daily Deaths',fontsize=20)\n",
    "ax0.xaxis.set_major_formatter(axfmt)\n",
    "\n",
    "ax0.legend()\n",
    "\n",
    "plt.savefig('percent')"
   ]
  },
  {
   "cell_type": "code",
   "execution_count": null,
   "metadata": {},
   "outputs": [],
   "source": [
    "#by date total positive, total hospitalized\n",
    "\n",
    "rolling_mean_d = ut.deathIncrease.rolling(window=7).mean()\n",
    "\n",
    "\n",
    "\n",
    "ax0 = plt.subplot(111)\n",
    "#ax0.plot(date, c_pos,label = 'positive tests')\n",
    "#ax0.plot(date, c_hosp, label = 'hospitalizations')\n",
    "#ax0.plot(date, d_pos, label = 'daily pos')\n",
    "ax0.plot(date, d, label = 'deceased',linewidth=3.0)\n",
    "ax0.plot(date, d_death, label = 'daily deaths',linewidth=3.0)\n",
    "#ax0.plot(date,rolling_mean_d, label='7-day avg')\n",
    "#plt.plot(date,c_rec, label = 'recovered')\n",
    "plt.text(date[0],c_death[0], c_death[0],fontsize = 14)\n",
    "plt.box(on=None)\n",
    "axfmt = mdates.DateFormatter(\"%m-%d\")\n",
    "\n",
    "plt.title('Cumulative and Daily Deaths',fontsize=20)\n",
    "ax0.xaxis.set_major_formatter(axfmt)\n",
    "\n",
    "ax0.legend()\n",
    "\n",
    "plt.savefig('Death')"
   ]
  },
  {
   "cell_type": "code",
   "execution_count": null,
   "metadata": {},
   "outputs": [],
   "source": [
    "#by date total positive, total hospitalized\n",
    "\n",
    "rolling_mean = ut.positiveIncrease.rolling(window=7).mean()\n",
    "\n",
    "\n",
    "\n",
    "#ax0.plot(date, c_pos,label = 'positive tests')\n",
    "#ax0.plot(date, c_hosp, label = 'hospitalizations')\n",
    "#ax0.plot(date, d_pos, label = 'daily pos')\n",
    "plt.plot(date, c_death, label = 'deceased',linewidth=3.0)\n",
    "plt.plot(date, d_death, label = 'daily deaths',linewidth=3.0)\n",
    "#ax0.plot(rolling_mean, label='7 day avg test increase'\n",
    "#plt.plot(date,c_rec, label = 'recovered')\n",
    "plt.text(date[0],c_death[0], c_death[0],fontsize = 14)\n",
    "plt.box(on=None)\n",
    "axfmt = mdates.DateFormatter(\"%m-%d\")\n",
    "\n",
    "plt.title('Cumulative Positive and Hospitalized',fontsize=20)\n",
    "\n",
    "plt.xaxis.set_major_formatter(axfmt)\n",
    "\n",
    "ax0.legend()"
   ]
  },
  {
   "cell_type": "code",
   "execution_count": null,
   "metadata": {},
   "outputs": [],
   "source": [
    "#by date total positive, total hospitalized\n",
    "\n",
    "rolling_mean_d = ut.deathIncrease.rolling(window=7).mean()\n",
    "\n",
    "\n",
    "ax0 = plt.subplot(111)\n",
    "#ax0.plot(date, c_pos,label = 'positive tests')\n",
    "#ax0.plot(date, c_hosp, label = 'hospitalizations')\n",
    "#ax0.plot(date, d_pos, label = 'daily pos')\n",
    "#ax0.plot(date, c_death, label = 'deceased')\n",
    "ax0.plot(date, d_death, label = 'daily deaths',linewidth=3.0)\n",
    "ax0.plot(date, rolling_mean_d, label = '7-day Rolling average',linewidth=3.0)\n",
    "#ax0.plot(rolling_mean, label='7 day avg test increase'\n",
    "#plt.plot(date,c_rec, label = 'recovered')\n",
    "plt.box(on=None)\n",
    "axfmt = mdates.DateFormatter(\"%m-%d\")\n",
    "plt.title('New Deaths by date and 7-day average',fontsize = 20)\n",
    "ax0.xaxis.set_major_formatter(axfmt)\n",
    "ax0.legend()\n",
    "\n",
    "plt.savefig('Death_1')"
   ]
  },
  {
   "cell_type": "code",
   "execution_count": null,
   "metadata": {},
   "outputs": [],
   "source": [
    "#by date total positive, total hospitalized\n",
    "\n",
    "rolling_mean = ut.positiveIncrease.rolling(window=7).mean()\n",
    "\n",
    "\n",
    "ax0 = plt.subplot(111)\n",
    "#ax0.plot(date, c_pos,label = 'positive tests')\n",
    "#ax0.plot(date, c_hosp, label = 'hospitalizations')\n",
    "ax0.plot(date, d_pos, label = 'New Positive Cases',linewidth=3.0)\n",
    "ax0.plot(date, rolling_mean, label='7-Day Average',linewidth=3.0)\n",
    "#plt.plot(date,c_rec, label = 'recovered')\n",
    "\n",
    "\n",
    "plt.box(on=None)\n",
    "axfmt = mdates.DateFormatter(\"%m-%d\")\n",
    "plt.title('Daily Positive Tests, 7-Day Rolling Mean',fontsize = 19)\n",
    "ax0.xaxis.set_major_formatter(axfmt)\n",
    "ax0.legend()\n",
    "plt.savefig('Positives')"
   ]
  },
  {
   "cell_type": "code",
   "execution_count": null,
   "metadata": {},
   "outputs": [],
   "source": [
    "ut.positiveIncrease[0]"
   ]
  },
  {
   "cell_type": "code",
   "execution_count": null,
   "metadata": {},
   "outputs": [],
   "source": [
    "mu = 14\n",
    "median = 5.5\n",
    "sigma = 34\n",
    "\n",
    "textstr = '\\n'.join((\n",
    "    r'$\\mu=%.2f$' % (mu, ),\n",
    "    r'$\\mathrm{median}=%.2f$' % (median, ),\n",
    "    r'$\\sigma=%.2f$' % (sigma, )))\n",
    "\n",
    "#by date deaths, total hospitalized\n",
    "ax1 = plt.subplot(111)\n",
    "ax1.plot(date, c_hosp, label = 'hospitalized')\n",
    "ax1.plot(date, c_death, label = 'deceased')\n",
    "#plt.plot(date,c_rec, label = 'recovered')\n",
    "axfmt = mdates.DateFormatter(\"%m-%d\")\n",
    "ax1.xaxis.set_major_formatter(axfmt)\n",
    "\n",
    "ax.text(0.05, 0.95, textstr, transform=ax.transAxes, fontsize=14,\n",
    "        verticalalignment='top', bbox=props)\n",
    "    \n",
    "ax1.legend()\n",
    "plt.title('Cumulative Hosptializations and Deaths')"
   ]
  },
  {
   "cell_type": "code",
   "execution_count": null,
   "metadata": {},
   "outputs": [],
   "source": [
    "ax = plt.subplot(111)\n",
    "ax.bar(date,d_total_tested,width=1,label = 'total tested',)\n",
    "ax.bar(date,d_pos,width=1,label = 'positive tests')\n",
    "ax.plot(date, c_pos,label = 'cumulative +',color = 'red')\n",
    "ax.xaxis_date()\n",
    "axfmt = mdates.DateFormatter(\"%m-%d\")\n",
    "ax.xaxis.set_major_formatter(axfmt)\n",
    "plt.text(date[0],d_total_tested[0], d_total_tested[0],fontsize = 12)\n",
    "plt.box(on=None)\n",
    "plt.title('Daily Testing', fontsize = 20)\n",
    "plt.legend(loc = 'upper left')\n",
    "plt.savefig('daily testing')"
   ]
  },
  {
   "cell_type": "code",
   "execution_count": null,
   "metadata": {},
   "outputs": [],
   "source": [
    "2+92+25"
   ]
  },
  {
   "cell_type": "code",
   "execution_count": null,
   "metadata": {},
   "outputs": [],
   "source": [
    "hosp_Available = 2771\n",
    "hosp_Needed = 332\n",
    "ICU_Avail = 170\n",
    "ICU_Needed = 66\n",
    "hosp_need_100 = hosp_Needed/hosp_Available\n",
    "ICU_need_100 = ICU_Needed/ICU_Avail"
   ]
  },
  {
   "cell_type": "code",
   "execution_count": null,
   "metadata": {},
   "outputs": [],
   "source": [
    "hosp_need_100"
   ]
  },
  {
   "cell_type": "code",
   "execution_count": null,
   "metadata": {},
   "outputs": [],
   "source": [
    "objects = ('Hospital Bed Capacity Needed', 'ICU Bed Capacity Needed')\n",
    "y_pos = np.arange(len(objects))\n",
    "performance = [hosp_need_100*100,ICU_need_100*100]\n",
    "\n",
    "plt.bar(y_pos, performance, align='center', alpha=0.5)\n",
    "plt.xticks(y_pos, objects)\n",
    "plt.ylabel('Surge Usage %')\n",
    "plt.ylim(top=100)\n",
    "plt.title('Projected Hospital Bed Capacity', fontsize = 20)\n",
    "\n",
    "plt.show()\n",
    "plt.savefig('hospital capacity')"
   ]
  },
  {
   "cell_type": "code",
   "execution_count": null,
   "metadata": {},
   "outputs": [],
   "source": [
    "h=pd.read_csv('Hospitalization_all_locs.csv')\n",
    "h.head()"
   ]
  },
  {
   "cell_type": "code",
   "execution_count": null,
   "metadata": {},
   "outputs": [],
   "source": [
    "h2 = h.loc[h['location_name'] == 'Utah']\n",
    "h2.head()"
   ]
  },
  {
   "cell_type": "code",
   "execution_count": null,
   "metadata": {},
   "outputs": [],
   "source": []
  }
 ],
 "metadata": {
  "kernelspec": {
   "display_name": "Python 3",
   "language": "python",
   "name": "python3"
  },
  "language_info": {
   "codemirror_mode": {
    "name": "ipython",
    "version": 3
   },
   "file_extension": ".py",
   "mimetype": "text/x-python",
   "name": "python",
   "nbconvert_exporter": "python",
   "pygments_lexer": "ipython3",
   "version": "3.7.6"
  }
 },
 "nbformat": 4,
 "nbformat_minor": 4
}
