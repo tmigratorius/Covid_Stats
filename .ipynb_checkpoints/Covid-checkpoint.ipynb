{
 "cells": [
  {
   "cell_type": "code",
   "execution_count": null,
   "metadata": {},
   "outputs": [],
   "source": [
    "from IPython.core.interactiveshell import InteractiveShell\n",
    "InteractiveShell.ast_node_interactivity = \"all\""
   ]
  },
  {
   "cell_type": "code",
   "execution_count": null,
   "metadata": {},
   "outputs": [],
   "source": [
    "import numpy as np\n",
    "import pandas as pd\n",
    "import json\n",
    "import folium\n",
    "import geojson\n",
    "import requests"
   ]
  },
  {
   "cell_type": "code",
   "execution_count": null,
   "metadata": {},
   "outputs": [],
   "source": [
    "#putting slc and north area zips into arrays\n",
    "slco_np = np.array([[20200416,84006,0],[20200416,84009,74.4],[20200416,84020,78.1],[20200416,84044,142.1],[20200416,84047,80.5],[20200416,84065,104.8],[20200416,84070,77.6],[20200416,84081,71.2],[20200416,84084,59.9],[20200416,84088,90.8],[20200416,84092,57.5],[20200416,84093,76.6],[20200416,84094,31.0],[20200416,84095,35.6],[20200416,84096,52.0],[20200416,84101,357.1],[20200416,84102,210.0],[20200416,84103,105.0],[20200416,84104,222.9],[20200416,84105,160.2],[20200416,84106,160.9],[20200416,84107,161.9],[20200416,84108,62.4],[20200416,84109,159.5],[20200416,84111,173.1],[20200416,84112,50.3],[20200416,84115,141],[20200416,84116,196.9],[20200416,84117,107.0],[20200416,84118,116.6],[20200416,84119,256.0],[20200416,84120,151.6],[20200416,84121,66.3],[20200416,84123,95.3],[20200416,84124,71.7],[20200416,84128,148.9],[20200416,84129,85.8]])\n",
    "slco = pd.DataFrame(slco_np,columns = ['date','zip','rate per 100K'])\n",
    "slco.head()\n",
    "dv = pd.DataFrame(np.array([[20201416,84056,18.19,'Hill'],[20201416,84310,18.19,'Weber'],[20201416,84317,18.19,'Weber'],[20201416,84067,18.19,'Weber'],[20201416,84403,18.19,'Weber'],[20201416,84401,18.19,'Weber'],[20201416,84414,18.19,'Weber'],[20201416,84404,18.19,'Weber'],[20201416,84315,34.67,'Hooper'],[20201416,84015,34.67,'Hooper-Clearfield'],[20201416,84075,61.22,'Syracuse'],[20201416,84040,46.19,'Layton'],[20201416,84041,46.19,'Layton2'],[20201416,84405,46.19,'Layton-South Weber'],[20201416,84037,38.38,'Kaysville'],[20201416,84025,49.36,'Farmington'],[20201416,84014,96.90,'Centerville'],[20201416,84010,75.11,'Woods Cross'],[20201416,84054,109.41,'N Salt Lake'],[20201416,84025,114.94,'Bountiful'],[20201416,84087,75.1,'West Bountiful']]),columns = ['date','zip','rate per 100K','city'])\n",
    "dv.head()"
   ]
  },
  {
   "cell_type": "code",
   "execution_count": null,
   "metadata": {},
   "outputs": [],
   "source": [
    "slco.shape\n",
    "nan_data = np.empty((37,1))\n",
    "nan_data[:]=np.nan\n",
    "slco['city']=nan_data\n",
    "slco.head()\n",
    "dv.head()"
   ]
  },
  {
   "cell_type": "code",
   "execution_count": null,
   "metadata": {},
   "outputs": [],
   "source": [
    "dv['date'][:]= 20200416"
   ]
  },
  {
   "cell_type": "code",
   "execution_count": null,
   "metadata": {},
   "outputs": [],
   "source": [
    "dv"
   ]
  },
  {
   "cell_type": "code",
   "execution_count": null,
   "metadata": {},
   "outputs": [],
   "source": [
    "dv['date'] = pd.to_datetime(dv['date'], format = '%Y%m%d')"
   ]
  },
  {
   "cell_type": "code",
   "execution_count": null,
   "metadata": {},
   "outputs": [],
   "source": [
    "all_df = dv.append(slco, ignore_index = True)\n",
    "all_df.tail()\n",
    "all_df.shape\n",
    "#c17.head()"
   ]
  },
  {
   "cell_type": "code",
   "execution_count": null,
   "metadata": {},
   "outputs": [],
   "source": [
    "zips_df = np.array(slco[['zip','rate per 100K']].append(dv[['zip','rate per 100K']]))"
   ]
  },
  {
   "cell_type": "code",
   "execution_count": null,
   "metadata": {},
   "outputs": [],
   "source": [
    "zips_df = np.array(dv[['zip','rate per 100K']])"
   ]
  },
  {
   "cell_type": "code",
   "execution_count": null,
   "metadata": {},
   "outputs": [],
   "source": [
    "zdf = pd.DataFrame(zips_df,columns=('zip','rate'))\n",
    "#zdf.append(cv17['zip','rate'], ignore_index=True)"
   ]
  },
  {
   "cell_type": "code",
   "execution_count": null,
   "metadata": {},
   "outputs": [],
   "source": [
    "type(zdf.zip[0])\n",
    "type(zdf.rate[0])\n",
    "zdf = zdf.astype({\"zip\": int, \"rate\": float})\n",
    "type(zdf.zip[0])\n",
    "type(zdf.rate[0])\n",
    "zdf = zdf.astype({\"zip\": str, \"rate\": float})\n",
    "type(zdf.zip[0])\n",
    "type(zdf.rate[0])"
   ]
  },
  {
   "cell_type": "code",
   "execution_count": null,
   "metadata": {},
   "outputs": [],
   "source": [
    "zdf.to_csv('zdf.csv')"
   ]
  },
  {
   "cell_type": "code",
   "execution_count": null,
   "metadata": {},
   "outputs": [],
   "source": [
    "pd.DataFrame(zips_df).to_csv(\"zips.csv\")"
   ]
  },
  {
   "cell_type": "code",
   "execution_count": null,
   "metadata": {},
   "outputs": [],
   "source": [
    "pd.DataFrame(dv).to_csv('dv.csv')"
   ]
  },
  {
   "cell_type": "code",
   "execution_count": null,
   "metadata": {},
   "outputs": [],
   "source": [
    "# request zip boundary data\n",
    "req = requests.get('https://raw.githubusercontent.com/OpenDataDE/State-zip-code-GeoJSON/master/ut_utah_zip_codes_geo.min.json')\n",
    "zips_geo = req.json()\n"
   ]
  },
  {
   "cell_type": "code",
   "execution_count": null,
   "metadata": {},
   "outputs": [],
   "source": [
    "zips_geo['features'][1]['properties']['ZCTA5CE10']"
   ]
  },
  {
   "cell_type": "code",
   "execution_count": null,
   "metadata": {},
   "outputs": [],
   "source": [
    "zips_geo['features'][0]['properties']['ZCTA5CE10'] = '84331'\n",
    "zips_geo['features'][0]['properties']['ZCTA5CE10']"
   ]
  },
  {
   "cell_type": "code",
   "execution_count": null,
   "metadata": {},
   "outputs": [],
   "source": [
    "#needed the correct key_on address and to make sure zip data type matched the json zip data type (ints,strings) not float\n",
    "\n",
    "req = requests.get('https://raw.githubusercontent.com/OpenDataDE/State-zip-code-GeoJSON/master/ut_utah_zip_codes_geo.min.json')\n",
    "zips_geo = req.json()"
   ]
  },
  {
   "cell_type": "code",
   "execution_count": null,
   "metadata": {},
   "outputs": [],
   "source": [
    "m = folium.Map(location=[41.1097, -111.9827], zoom_start=9)\n",
    "\n",
    "folium.Choropleth(\n",
    "    geo_data=zips_geo,\n",
    "    name='choropleth',\n",
    "    data=zdf,\n",
    "    columns=['zip', 'rate'],\n",
    "    key_on='feature.properties.ZCTA5CE10',\n",
    "    fill_color = 'Reds',\n",
    "    fill_opacity=0.7,\n",
    "    line_opacity=0.2,\n",
    "    legend_name= 'rate per 100K'\n",
    ").add_to(m)\n",
    "\n",
    "folium.LayerControl().add_to(m)\n",
    "\n",
    "m"
   ]
  },
  {
   "cell_type": "code",
   "execution_count": null,
   "metadata": {},
   "outputs": [],
   "source": [
    "##check to see my geojson is good, basic outlines of zip codes in UT\n",
    "m = folium.Map(location=[40.8486, -111.9069], zoom_start=3)\n",
    "\n",
    "folium.GeoJson(\n",
    "    zips_geo,\n",
    "    name='geojson'\n",
    ").add_to(m)\n",
    "\n",
    "folium.LayerControl().add_to(m)\n",
    "\n",
    "m"
   ]
  },
  {
   "cell_type": "code",
   "execution_count": null,
   "metadata": {},
   "outputs": [],
   "source": [
    "#stock example\n",
    "\n",
    "url = 'https://raw.githubusercontent.com/python-visualization/folium/master/examples/data'\n",
    "state_geo = f'{url}/us-states.json'\n",
    "state_unemployment = f'{url}/US_Unemployment_Oct2012.csv'\n",
    "state_data = pd.read_csv(state_unemployment)\n",
    "\n",
    "m = folium.Map(location=[48, -102], zoom_start=3)\n",
    "\n",
    "folium.Choropleth(\n",
    "    geo_data=state_geo,\n",
    "    name='choropleth',\n",
    "    data=state_data,\n",
    "    columns=['State', 'Unemployment'],\n",
    "    key_on='feature.id',\n",
    "    fill_color='YlGn',\n",
    "    fill_opacity=0.7,\n",
    "    line_opacity=0.2,\n",
    "    legend_name='Unemployment Rate (%)'\n",
    ").add_to(m)\n",
    "\n",
    "folium.LayerControl().add_to(m)\n",
    "\n",
    "m"
   ]
  },
  {
   "cell_type": "code",
   "execution_count": null,
   "metadata": {},
   "outputs": [],
   "source": [
    "#https://python-visualization.github.io/folium/quickstart.html"
   ]
  },
  {
   "cell_type": "code",
   "execution_count": null,
   "metadata": {},
   "outputs": [],
   "source": [
    "#read in new data\n",
    "c17 = pd.read_csv('covid417.csv')"
   ]
  },
  {
   "cell_type": "code",
   "execution_count": null,
   "metadata": {},
   "outputs": [],
   "source": [
    "\n",
    "c17.rename(columns={\"rate\": \"rate per 100K\"})"
   ]
  },
  {
   "cell_type": "code",
   "execution_count": null,
   "metadata": {},
   "outputs": [],
   "source": [
    "c17"
   ]
  },
  {
   "cell_type": "code",
   "execution_count": null,
   "metadata": {},
   "outputs": [],
   "source": [
    "thermometers = 15*250\n",
    "\n",
    "probes = (30*2000)*(100/1000)\n",
    "thermometers+probes"
   ]
  },
  {
   "cell_type": "code",
   "execution_count": null,
   "metadata": {},
   "outputs": [],
   "source": [
    "thermometers"
   ]
  },
  {
   "cell_type": "code",
   "execution_count": null,
   "metadata": {},
   "outputs": [],
   "source": [
    "probes"
   ]
  },
  {
   "cell_type": "code",
   "execution_count": null,
   "metadata": {},
   "outputs": [],
   "source": []
  }
 ],
 "metadata": {
  "kernelspec": {
   "display_name": "Python 3",
   "language": "python",
   "name": "python3"
  },
  "language_info": {
   "codemirror_mode": {
    "name": "ipython",
    "version": 3
   },
   "file_extension": ".py",
   "mimetype": "text/x-python",
   "name": "python",
   "nbconvert_exporter": "python",
   "pygments_lexer": "ipython3",
   "version": "3.7.6"
  }
 },
 "nbformat": 4,
 "nbformat_minor": 4
}
