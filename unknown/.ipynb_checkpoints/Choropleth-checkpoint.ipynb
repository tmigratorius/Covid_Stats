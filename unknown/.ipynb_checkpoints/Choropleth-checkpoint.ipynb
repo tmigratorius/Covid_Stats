{
 "cells": [
  {
   "cell_type": "code",
   "execution_count": 1,
   "metadata": {},
   "outputs": [],
   "source": [
    "from IPython.core.interactiveshell import InteractiveShell\n",
    "InteractiveShell.ast_node_interactivity = \"all\""
   ]
  },
  {
   "cell_type": "code",
   "execution_count": 2,
   "metadata": {},
   "outputs": [],
   "source": [
    "import numpy as np\n",
    "import pandas as pd\n",
    "import json\n",
    "import folium\n",
    "import geojson\n",
    "import requests"
   ]
  },
  {
   "cell_type": "code",
   "execution_count": 11,
   "metadata": {},
   "outputs": [],
   "source": [
    "all_ut_csv = pd.read_csv('covid417.csv')\n",
    "all_ut_csv.rename(columns={'rate':'rate per 100K'},inplace = True)\n",
    "all_ut_csv['date'] = pd.to_datetime(all_ut_csv['date'], format = '%Y%m%d')"
   ]
  },
  {
   "cell_type": "code",
   "execution_count": 12,
   "metadata": {},
   "outputs": [
    {
     "data": {
      "text/html": [
       "<div>\n",
       "<style scoped>\n",
       "    .dataframe tbody tr th:only-of-type {\n",
       "        vertical-align: middle;\n",
       "    }\n",
       "\n",
       "    .dataframe tbody tr th {\n",
       "        vertical-align: top;\n",
       "    }\n",
       "\n",
       "    .dataframe thead th {\n",
       "        text-align: right;\n",
       "    }\n",
       "</style>\n",
       "<table border=\"1\" class=\"dataframe\">\n",
       "  <thead>\n",
       "    <tr style=\"text-align: right;\">\n",
       "      <th></th>\n",
       "      <th>date</th>\n",
       "      <th>zip</th>\n",
       "      <th>rate per 100K</th>\n",
       "      <th>Unnamed: 3</th>\n",
       "      <th>city</th>\n",
       "    </tr>\n",
       "  </thead>\n",
       "  <tbody>\n",
       "    <tr>\n",
       "      <th>0</th>\n",
       "      <td>2020-04-17</td>\n",
       "      <td>84040</td>\n",
       "      <td>47.37</td>\n",
       "      <td>52.11</td>\n",
       "      <td>Layton</td>\n",
       "    </tr>\n",
       "    <tr>\n",
       "      <th>1</th>\n",
       "      <td>2020-04-17</td>\n",
       "      <td>84041</td>\n",
       "      <td>47.37</td>\n",
       "      <td>52.11</td>\n",
       "      <td>Layton-2</td>\n",
       "    </tr>\n",
       "    <tr>\n",
       "      <th>2</th>\n",
       "      <td>2020-04-17</td>\n",
       "      <td>84405</td>\n",
       "      <td>47.37</td>\n",
       "      <td>52.11</td>\n",
       "      <td>Layton-Sout Weber</td>\n",
       "    </tr>\n",
       "    <tr>\n",
       "      <th>3</th>\n",
       "      <td>2020-04-17</td>\n",
       "      <td>84315</td>\n",
       "      <td>34.67</td>\n",
       "      <td>38.83</td>\n",
       "      <td>Hooper</td>\n",
       "    </tr>\n",
       "    <tr>\n",
       "      <th>4</th>\n",
       "      <td>2020-04-17</td>\n",
       "      <td>84015</td>\n",
       "      <td>34.67</td>\n",
       "      <td>38.83</td>\n",
       "      <td>Hooper-Clearfield</td>\n",
       "    </tr>\n",
       "  </tbody>\n",
       "</table>\n",
       "</div>"
      ],
      "text/plain": [
       "        date    zip  rate per 100K  Unnamed: 3               city\n",
       "0 2020-04-17  84040          47.37       52.11             Layton\n",
       "1 2020-04-17  84041          47.37       52.11           Layton-2\n",
       "2 2020-04-17  84405          47.37       52.11  Layton-Sout Weber\n",
       "3 2020-04-17  84315          34.67       38.83             Hooper\n",
       "4 2020-04-17  84015          34.67       38.83  Hooper-Clearfield"
      ]
     },
     "execution_count": 12,
     "metadata": {},
     "output_type": "execute_result"
    }
   ],
   "source": [
    "all_ut_csv.head()"
   ]
  },
  {
   "cell_type": "code",
   "execution_count": 30,
   "metadata": {},
   "outputs": [],
   "source": [
    "all_df2 = all_ut_csv.append(slco[['date','zip','rate per 100K']]).append(dv[['date','zip','rate per 100K']])\n",
    "all_df2.to_csv('zips_all.csv')"
   ]
  },
  {
   "cell_type": "code",
   "execution_count": 16,
   "metadata": {},
   "outputs": [],
   "source": [
    "#putting slc and north area zips into arrays\n",
    "slco_np = np.array([[20200416,84006,0],[20200416,84009,74.4],[20200416,84020,78.1],[20200416,84044,142.1],[20200416,84047,80.5],[20200416,84065,104.8],[20200416,84070,77.6],[20200416,84081,71.2],[20200416,84084,59.9],[20200416,84088,90.8],[20200416,84092,57.5],[20200416,84093,76.6],[20200416,84094,31.0],[20200416,84095,35.6],[20200416,84096,52.0],[20200416,84101,357.1],[20200416,84102,210.0],[20200416,84103,105.0],[20200416,84104,222.9],[20200416,84105,160.2],[20200416,84106,160.9],[20200416,84107,161.9],[20200416,84108,62.4],[20200416,84109,159.5],[20200416,84111,173.1],[20200416,84112,50.3],[20200416,84115,141],[20200416,84116,196.9],[20200416,84117,107.0],[20200416,84118,116.6],[20200416,84119,256.0],[20200416,84120,151.6],[20200416,84121,66.3],[20200416,84123,95.3],[20200416,84124,71.7],[20200416,84128,148.9],[20200416,84129,85.8]])\n",
    "slco = pd.DataFrame(slco_np,columns = ['date','zip','rate per 100K'])\n",
    "dv = pd.DataFrame(np.array([[20201416,84056,18.19,'Hill'],[20201416,84310,18.19,'Weber'],[20201416,84317,18.19,'Weber'],[20201416,84067,18.19,'Weber'],[20201416,84403,18.19,'Weber'],[20201416,84401,18.19,'Weber'],[20201416,84414,18.19,'Weber'],[20201416,84404,18.19,'Weber'],[20201416,84315,34.67,'Hooper'],[20201416,84015,34.67,'Hooper-Clearfield'],[20201416,84075,61.22,'Syracuse'],[20201416,84040,46.19,'Layton'],[20201416,84041,46.19,'Layton2'],[20201416,84405,46.19,'Layton-South Weber'],[20201416,84037,38.38,'Kaysville'],[20201416,84025,49.36,'Farmington'],[20201416,84014,96.90,'Centerville'],[20201416,84010,75.11,'Woods Cross'],[20201416,84054,109.41,'N Salt Lake'],[20201416,84025,114.94,'Bountiful'],[20201416,84087,75.1,'West Bountiful']]),columns = ['date','zip','rate per 100K','city'])"
   ]
  },
  {
   "cell_type": "code",
   "execution_count": 17,
   "metadata": {},
   "outputs": [
    {
     "data": {
      "text/plain": [
       "(37, 3)"
      ]
     },
     "execution_count": 17,
     "metadata": {},
     "output_type": "execute_result"
    },
    {
     "data": {
      "text/html": [
       "<div>\n",
       "<style scoped>\n",
       "    .dataframe tbody tr th:only-of-type {\n",
       "        vertical-align: middle;\n",
       "    }\n",
       "\n",
       "    .dataframe tbody tr th {\n",
       "        vertical-align: top;\n",
       "    }\n",
       "\n",
       "    .dataframe thead th {\n",
       "        text-align: right;\n",
       "    }\n",
       "</style>\n",
       "<table border=\"1\" class=\"dataframe\">\n",
       "  <thead>\n",
       "    <tr style=\"text-align: right;\">\n",
       "      <th></th>\n",
       "      <th>date</th>\n",
       "      <th>zip</th>\n",
       "      <th>rate per 100K</th>\n",
       "      <th>city</th>\n",
       "    </tr>\n",
       "  </thead>\n",
       "  <tbody>\n",
       "    <tr>\n",
       "      <th>0</th>\n",
       "      <td>20200416.0</td>\n",
       "      <td>84006.0</td>\n",
       "      <td>0.0</td>\n",
       "      <td>NaN</td>\n",
       "    </tr>\n",
       "    <tr>\n",
       "      <th>1</th>\n",
       "      <td>20200416.0</td>\n",
       "      <td>84009.0</td>\n",
       "      <td>74.4</td>\n",
       "      <td>NaN</td>\n",
       "    </tr>\n",
       "    <tr>\n",
       "      <th>2</th>\n",
       "      <td>20200416.0</td>\n",
       "      <td>84020.0</td>\n",
       "      <td>78.1</td>\n",
       "      <td>NaN</td>\n",
       "    </tr>\n",
       "    <tr>\n",
       "      <th>3</th>\n",
       "      <td>20200416.0</td>\n",
       "      <td>84044.0</td>\n",
       "      <td>142.1</td>\n",
       "      <td>NaN</td>\n",
       "    </tr>\n",
       "    <tr>\n",
       "      <th>4</th>\n",
       "      <td>20200416.0</td>\n",
       "      <td>84047.0</td>\n",
       "      <td>80.5</td>\n",
       "      <td>NaN</td>\n",
       "    </tr>\n",
       "  </tbody>\n",
       "</table>\n",
       "</div>"
      ],
      "text/plain": [
       "         date      zip  rate per 100K  city\n",
       "0  20200416.0  84006.0            0.0   NaN\n",
       "1  20200416.0  84009.0           74.4   NaN\n",
       "2  20200416.0  84020.0           78.1   NaN\n",
       "3  20200416.0  84044.0          142.1   NaN\n",
       "4  20200416.0  84047.0           80.5   NaN"
      ]
     },
     "execution_count": 17,
     "metadata": {},
     "output_type": "execute_result"
    },
    {
     "data": {
      "text/html": [
       "<div>\n",
       "<style scoped>\n",
       "    .dataframe tbody tr th:only-of-type {\n",
       "        vertical-align: middle;\n",
       "    }\n",
       "\n",
       "    .dataframe tbody tr th {\n",
       "        vertical-align: top;\n",
       "    }\n",
       "\n",
       "    .dataframe thead th {\n",
       "        text-align: right;\n",
       "    }\n",
       "</style>\n",
       "<table border=\"1\" class=\"dataframe\">\n",
       "  <thead>\n",
       "    <tr style=\"text-align: right;\">\n",
       "      <th></th>\n",
       "      <th>date</th>\n",
       "      <th>zip</th>\n",
       "      <th>rate per 100K</th>\n",
       "      <th>city</th>\n",
       "    </tr>\n",
       "  </thead>\n",
       "  <tbody>\n",
       "    <tr>\n",
       "      <th>0</th>\n",
       "      <td>20201416</td>\n",
       "      <td>84056</td>\n",
       "      <td>18.19</td>\n",
       "      <td>Hill</td>\n",
       "    </tr>\n",
       "    <tr>\n",
       "      <th>1</th>\n",
       "      <td>20201416</td>\n",
       "      <td>84310</td>\n",
       "      <td>18.19</td>\n",
       "      <td>Weber</td>\n",
       "    </tr>\n",
       "    <tr>\n",
       "      <th>2</th>\n",
       "      <td>20201416</td>\n",
       "      <td>84317</td>\n",
       "      <td>18.19</td>\n",
       "      <td>Weber</td>\n",
       "    </tr>\n",
       "    <tr>\n",
       "      <th>3</th>\n",
       "      <td>20201416</td>\n",
       "      <td>84067</td>\n",
       "      <td>18.19</td>\n",
       "      <td>Weber</td>\n",
       "    </tr>\n",
       "    <tr>\n",
       "      <th>4</th>\n",
       "      <td>20201416</td>\n",
       "      <td>84403</td>\n",
       "      <td>18.19</td>\n",
       "      <td>Weber</td>\n",
       "    </tr>\n",
       "  </tbody>\n",
       "</table>\n",
       "</div>"
      ],
      "text/plain": [
       "       date    zip rate per 100K   city\n",
       "0  20201416  84056         18.19   Hill\n",
       "1  20201416  84310         18.19  Weber\n",
       "2  20201416  84317         18.19  Weber\n",
       "3  20201416  84067         18.19  Weber\n",
       "4  20201416  84403         18.19  Weber"
      ]
     },
     "execution_count": 17,
     "metadata": {},
     "output_type": "execute_result"
    }
   ],
   "source": [
    "slco.shape\n",
    "nan_data = np.empty((37,1))\n",
    "nan_data[:]=np.nan\n",
    "slco['city']=nan_data\n",
    "slco.head()\n",
    "dv.head()"
   ]
  },
  {
   "cell_type": "code",
   "execution_count": 18,
   "metadata": {},
   "outputs": [],
   "source": [
    "dv['date'][:]= 20200416"
   ]
  },
  {
   "cell_type": "code",
   "execution_count": 19,
   "metadata": {},
   "outputs": [
    {
     "data": {
      "text/html": [
       "<div>\n",
       "<style scoped>\n",
       "    .dataframe tbody tr th:only-of-type {\n",
       "        vertical-align: middle;\n",
       "    }\n",
       "\n",
       "    .dataframe tbody tr th {\n",
       "        vertical-align: top;\n",
       "    }\n",
       "\n",
       "    .dataframe thead th {\n",
       "        text-align: right;\n",
       "    }\n",
       "</style>\n",
       "<table border=\"1\" class=\"dataframe\">\n",
       "  <thead>\n",
       "    <tr style=\"text-align: right;\">\n",
       "      <th></th>\n",
       "      <th>date</th>\n",
       "      <th>zip</th>\n",
       "      <th>rate per 100K</th>\n",
       "      <th>city</th>\n",
       "    </tr>\n",
       "  </thead>\n",
       "  <tbody>\n",
       "    <tr>\n",
       "      <th>0</th>\n",
       "      <td>20200416</td>\n",
       "      <td>84056</td>\n",
       "      <td>18.19</td>\n",
       "      <td>Hill</td>\n",
       "    </tr>\n",
       "    <tr>\n",
       "      <th>1</th>\n",
       "      <td>20200416</td>\n",
       "      <td>84310</td>\n",
       "      <td>18.19</td>\n",
       "      <td>Weber</td>\n",
       "    </tr>\n",
       "    <tr>\n",
       "      <th>2</th>\n",
       "      <td>20200416</td>\n",
       "      <td>84317</td>\n",
       "      <td>18.19</td>\n",
       "      <td>Weber</td>\n",
       "    </tr>\n",
       "    <tr>\n",
       "      <th>3</th>\n",
       "      <td>20200416</td>\n",
       "      <td>84067</td>\n",
       "      <td>18.19</td>\n",
       "      <td>Weber</td>\n",
       "    </tr>\n",
       "    <tr>\n",
       "      <th>4</th>\n",
       "      <td>20200416</td>\n",
       "      <td>84403</td>\n",
       "      <td>18.19</td>\n",
       "      <td>Weber</td>\n",
       "    </tr>\n",
       "    <tr>\n",
       "      <th>5</th>\n",
       "      <td>20200416</td>\n",
       "      <td>84401</td>\n",
       "      <td>18.19</td>\n",
       "      <td>Weber</td>\n",
       "    </tr>\n",
       "    <tr>\n",
       "      <th>6</th>\n",
       "      <td>20200416</td>\n",
       "      <td>84414</td>\n",
       "      <td>18.19</td>\n",
       "      <td>Weber</td>\n",
       "    </tr>\n",
       "    <tr>\n",
       "      <th>7</th>\n",
       "      <td>20200416</td>\n",
       "      <td>84404</td>\n",
       "      <td>18.19</td>\n",
       "      <td>Weber</td>\n",
       "    </tr>\n",
       "    <tr>\n",
       "      <th>8</th>\n",
       "      <td>20200416</td>\n",
       "      <td>84315</td>\n",
       "      <td>34.67</td>\n",
       "      <td>Hooper</td>\n",
       "    </tr>\n",
       "    <tr>\n",
       "      <th>9</th>\n",
       "      <td>20200416</td>\n",
       "      <td>84015</td>\n",
       "      <td>34.67</td>\n",
       "      <td>Hooper-Clearfield</td>\n",
       "    </tr>\n",
       "    <tr>\n",
       "      <th>10</th>\n",
       "      <td>20200416</td>\n",
       "      <td>84075</td>\n",
       "      <td>61.22</td>\n",
       "      <td>Syracuse</td>\n",
       "    </tr>\n",
       "    <tr>\n",
       "      <th>11</th>\n",
       "      <td>20200416</td>\n",
       "      <td>84040</td>\n",
       "      <td>46.19</td>\n",
       "      <td>Layton</td>\n",
       "    </tr>\n",
       "    <tr>\n",
       "      <th>12</th>\n",
       "      <td>20200416</td>\n",
       "      <td>84041</td>\n",
       "      <td>46.19</td>\n",
       "      <td>Layton2</td>\n",
       "    </tr>\n",
       "    <tr>\n",
       "      <th>13</th>\n",
       "      <td>20200416</td>\n",
       "      <td>84405</td>\n",
       "      <td>46.19</td>\n",
       "      <td>Layton-South Weber</td>\n",
       "    </tr>\n",
       "    <tr>\n",
       "      <th>14</th>\n",
       "      <td>20200416</td>\n",
       "      <td>84037</td>\n",
       "      <td>38.38</td>\n",
       "      <td>Kaysville</td>\n",
       "    </tr>\n",
       "    <tr>\n",
       "      <th>15</th>\n",
       "      <td>20200416</td>\n",
       "      <td>84025</td>\n",
       "      <td>49.36</td>\n",
       "      <td>Farmington</td>\n",
       "    </tr>\n",
       "    <tr>\n",
       "      <th>16</th>\n",
       "      <td>20200416</td>\n",
       "      <td>84014</td>\n",
       "      <td>96.9</td>\n",
       "      <td>Centerville</td>\n",
       "    </tr>\n",
       "    <tr>\n",
       "      <th>17</th>\n",
       "      <td>20200416</td>\n",
       "      <td>84010</td>\n",
       "      <td>75.11</td>\n",
       "      <td>Woods Cross</td>\n",
       "    </tr>\n",
       "    <tr>\n",
       "      <th>18</th>\n",
       "      <td>20200416</td>\n",
       "      <td>84054</td>\n",
       "      <td>109.41</td>\n",
       "      <td>N Salt Lake</td>\n",
       "    </tr>\n",
       "    <tr>\n",
       "      <th>19</th>\n",
       "      <td>20200416</td>\n",
       "      <td>84025</td>\n",
       "      <td>114.94</td>\n",
       "      <td>Bountiful</td>\n",
       "    </tr>\n",
       "    <tr>\n",
       "      <th>20</th>\n",
       "      <td>20200416</td>\n",
       "      <td>84087</td>\n",
       "      <td>75.1</td>\n",
       "      <td>West Bountiful</td>\n",
       "    </tr>\n",
       "  </tbody>\n",
       "</table>\n",
       "</div>"
      ],
      "text/plain": [
       "        date    zip rate per 100K                city\n",
       "0   20200416  84056         18.19                Hill\n",
       "1   20200416  84310         18.19               Weber\n",
       "2   20200416  84317         18.19               Weber\n",
       "3   20200416  84067         18.19               Weber\n",
       "4   20200416  84403         18.19               Weber\n",
       "5   20200416  84401         18.19               Weber\n",
       "6   20200416  84414         18.19               Weber\n",
       "7   20200416  84404         18.19               Weber\n",
       "8   20200416  84315         34.67              Hooper\n",
       "9   20200416  84015         34.67   Hooper-Clearfield\n",
       "10  20200416  84075         61.22            Syracuse\n",
       "11  20200416  84040         46.19              Layton\n",
       "12  20200416  84041         46.19             Layton2\n",
       "13  20200416  84405         46.19  Layton-South Weber\n",
       "14  20200416  84037         38.38           Kaysville\n",
       "15  20200416  84025         49.36          Farmington\n",
       "16  20200416  84014          96.9         Centerville\n",
       "17  20200416  84010         75.11         Woods Cross\n",
       "18  20200416  84054        109.41         N Salt Lake\n",
       "19  20200416  84025        114.94           Bountiful\n",
       "20  20200416  84087          75.1      West Bountiful"
      ]
     },
     "execution_count": 19,
     "metadata": {},
     "output_type": "execute_result"
    }
   ],
   "source": [
    "dv"
   ]
  },
  {
   "cell_type": "code",
   "execution_count": 22,
   "metadata": {},
   "outputs": [],
   "source": [
    "zips_df = np.array(slco[['zip','rate per 100K']].append(dv[['zip','rate per 100K']]))"
   ]
  },
  {
   "cell_type": "code",
   "execution_count": 24,
   "metadata": {},
   "outputs": [
    {
     "ename": "AttributeError",
     "evalue": "'numpy.ndarray' object has no attribute 'head'",
     "output_type": "error",
     "traceback": [
      "\u001b[0;31m---------------------------------------------------------------------------\u001b[0m",
      "\u001b[0;31mAttributeError\u001b[0m                            Traceback (most recent call last)",
      "\u001b[0;32m<ipython-input-24-1dae7f247ca1>\u001b[0m in \u001b[0;36m<module>\u001b[0;34m\u001b[0m\n\u001b[1;32m      1\u001b[0m \u001b[0mzips_df\u001b[0m \u001b[0;34m=\u001b[0m \u001b[0mnp\u001b[0m\u001b[0;34m.\u001b[0m\u001b[0marray\u001b[0m\u001b[0;34m(\u001b[0m\u001b[0mdv\u001b[0m\u001b[0;34m[\u001b[0m\u001b[0;34m[\u001b[0m\u001b[0;34m'zip'\u001b[0m\u001b[0;34m,\u001b[0m\u001b[0;34m'rate per 100K'\u001b[0m\u001b[0;34m]\u001b[0m\u001b[0;34m]\u001b[0m\u001b[0;34m)\u001b[0m\u001b[0;34m\u001b[0m\u001b[0;34m\u001b[0m\u001b[0m\n\u001b[0;32m----> 2\u001b[0;31m \u001b[0mzips_df\u001b[0m\u001b[0;34m.\u001b[0m\u001b[0mhead\u001b[0m\u001b[0;34m(\u001b[0m\u001b[0;34m)\u001b[0m\u001b[0;34m\u001b[0m\u001b[0;34m\u001b[0m\u001b[0m\n\u001b[0m",
      "\u001b[0;31mAttributeError\u001b[0m: 'numpy.ndarray' object has no attribute 'head'"
     ]
    }
   ],
   "source": [
    "zips_df = np.array(dv[['zip','rate per 100K']])"
   ]
  },
  {
   "cell_type": "code",
   "execution_count": null,
   "metadata": {},
   "outputs": [],
   "source": [
    "zdf = pd.DataFrame(zips_df,columns=('zip','rate'))\n",
    "#zdf.append(cv17['zip','rate'], ignore_index=True)"
   ]
  },
  {
   "cell_type": "code",
   "execution_count": null,
   "metadata": {},
   "outputs": [],
   "source": [
    "type(zdf.zip[0])\n",
    "type(zdf.rate[0])\n",
    "zdf = zdf.astype({\"zip\": int, \"rate\": float})\n",
    "type(zdf.zip[0])\n",
    "type(zdf.rate[0])\n",
    "zdf = zdf.astype({\"zip\": str, \"rate\": float})\n",
    "type(zdf.zip[0])\n",
    "type(zdf.rate[0])"
   ]
  },
  {
   "cell_type": "code",
   "execution_count": null,
   "metadata": {},
   "outputs": [],
   "source": [
    "zdf.to_csv('zdf.csv')"
   ]
  },
  {
   "cell_type": "code",
   "execution_count": null,
   "metadata": {},
   "outputs": [],
   "source": [
    "pd.DataFrame(zips_df).to_csv(\"zips.csv\")"
   ]
  },
  {
   "cell_type": "code",
   "execution_count": null,
   "metadata": {},
   "outputs": [],
   "source": [
    "pd.DataFrame(dv).to_csv('dv.csv')"
   ]
  },
  {
   "cell_type": "code",
   "execution_count": null,
   "metadata": {},
   "outputs": [],
   "source": [
    "# request zip boundary data\n",
    "req = requests.get('https://raw.githubusercontent.com/OpenDataDE/State-zip-code-GeoJSON/master/ut_utah_zip_codes_geo.min.json')\n",
    "zips_geo = req.json()\n"
   ]
  },
  {
   "cell_type": "code",
   "execution_count": null,
   "metadata": {},
   "outputs": [],
   "source": [
    "zips_geo['features'][1]['properties']['ZCTA5CE10']"
   ]
  },
  {
   "cell_type": "code",
   "execution_count": null,
   "metadata": {},
   "outputs": [],
   "source": [
    "zips_geo['features'][0]['properties']['ZCTA5CE10'] = '84331'\n",
    "zips_geo['features'][0]['properties']['ZCTA5CE10']"
   ]
  },
  {
   "cell_type": "code",
   "execution_count": null,
   "metadata": {},
   "outputs": [],
   "source": [
    "#needed the correct key_on address and to make sure zip data type matched the json zip data type (ints,strings) not float\n",
    "\n",
    "req = requests.get('https://raw.githubusercontent.com/OpenDataDE/State-zip-code-GeoJSON/master/ut_utah_zip_codes_geo.min.json')\n",
    "zips_geo = req.json()"
   ]
  },
  {
   "cell_type": "code",
   "execution_count": null,
   "metadata": {},
   "outputs": [],
   "source": [
    "m = folium.Map(location=[41.1097, -111.9827], zoom_start=9)\n",
    "\n",
    "folium.Choropleth(\n",
    "    geo_data=zips_geo,\n",
    "    name='choropleth',\n",
    "    data=zdf,\n",
    "    columns=['zip', 'rate'],\n",
    "    key_on='feature.properties.ZCTA5CE10',\n",
    "    fill_color = 'Reds',\n",
    "    fill_opacity=0.7,\n",
    "    line_opacity=0.2,\n",
    "    legend_name= 'rate per 100K'\n",
    ").add_to(m)\n",
    "\n",
    "folium.LayerControl().add_to(m)\n",
    "\n",
    "m"
   ]
  },
  {
   "cell_type": "code",
   "execution_count": null,
   "metadata": {},
   "outputs": [],
   "source": [
    "##check to see my geojson is good, basic outlines of zip codes in UT\n",
    "m = folium.Map(location=[40.8486, -111.9069], zoom_start=3)\n",
    "\n",
    "folium.GeoJson(\n",
    "    zips_geo,\n",
    "    name='geojson'\n",
    ").add_to(m)\n",
    "\n",
    "folium.LayerControl().add_to(m)\n",
    "\n",
    "m"
   ]
  },
  {
   "cell_type": "code",
   "execution_count": null,
   "metadata": {},
   "outputs": [],
   "source": [
    "#stock example\n",
    "\n",
    "url = 'https://raw.githubusercontent.com/python-visualization/folium/master/examples/data'\n",
    "state_geo = f'{url}/us-states.json'\n",
    "state_unemployment = f'{url}/US_Unemployment_Oct2012.csv'\n",
    "state_data = pd.read_csv(state_unemployment)\n",
    "\n",
    "m = folium.Map(location=[48, -102], zoom_start=3)\n",
    "\n",
    "folium.Choropleth(\n",
    "    geo_data=state_geo,\n",
    "    name='choropleth',\n",
    "    data=state_data,\n",
    "    columns=['State', 'Unemployment'],\n",
    "    key_on='feature.id',\n",
    "    fill_color='YlGn',\n",
    "    fill_opacity=0.7,\n",
    "    line_opacity=0.2,\n",
    "    legend_name='Unemployment Rate (%)'\n",
    ").add_to(m)\n",
    "\n",
    "folium.LayerControl().add_to(m)\n",
    "\n",
    "m"
   ]
  },
  {
   "cell_type": "code",
   "execution_count": null,
   "metadata": {},
   "outputs": [],
   "source": [
    "#https://python-visualization.github.io/folium/quickstart.html"
   ]
  },
  {
   "cell_type": "code",
   "execution_count": null,
   "metadata": {},
   "outputs": [],
   "source": [
    "#read in new data\n",
    "c17 = pd.read_csv('covid417.csv')"
   ]
  },
  {
   "cell_type": "code",
   "execution_count": null,
   "metadata": {},
   "outputs": [],
   "source": [
    "\n",
    "c17.rename(columns={\"rate\": \"rate per 100K\"})"
   ]
  },
  {
   "cell_type": "code",
   "execution_count": null,
   "metadata": {},
   "outputs": [],
   "source": [
    "c17"
   ]
  },
  {
   "cell_type": "code",
   "execution_count": null,
   "metadata": {},
   "outputs": [],
   "source": [
    "thermometers = 15*250\n",
    "\n",
    "probes = (30*2000)*(100/1000)\n",
    "thermometers+probes"
   ]
  },
  {
   "cell_type": "code",
   "execution_count": null,
   "metadata": {},
   "outputs": [],
   "source": [
    "thermometers"
   ]
  },
  {
   "cell_type": "code",
   "execution_count": null,
   "metadata": {},
   "outputs": [],
   "source": [
    "probes"
   ]
  },
  {
   "cell_type": "code",
   "execution_count": null,
   "metadata": {},
   "outputs": [],
   "source": []
  }
 ],
 "metadata": {
  "kernelspec": {
   "display_name": "Python 3",
   "language": "python",
   "name": "python3"
  },
  "language_info": {
   "codemirror_mode": {
    "name": "ipython",
    "version": 3
   },
   "file_extension": ".py",
   "mimetype": "text/x-python",
   "name": "python",
   "nbconvert_exporter": "python",
   "pygments_lexer": "ipython3",
   "version": "3.7.6"
  }
 },
 "nbformat": 4,
 "nbformat_minor": 4
}
